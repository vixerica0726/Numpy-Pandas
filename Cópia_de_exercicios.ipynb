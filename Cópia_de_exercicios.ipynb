{
  "nbformat": 4,
  "nbformat_minor": 0,
  "metadata": {
    "colab": {
      "provenance": [],
      "authorship_tag": "ABX9TyOrajh7USwaHSB/VY2i6SQN",
      "include_colab_link": true
    },
    "kernelspec": {
      "name": "python3",
      "display_name": "Python 3"
    },
    "language_info": {
      "name": "python"
    }
  },
  "cells": [
    {
      "cell_type": "markdown",
      "metadata": {
        "id": "view-in-github",
        "colab_type": "text"
      },
      "source": [
        "<a href=\"https://colab.research.google.com/github/vixerica0726/Numpy-Pandas/blob/main/C%C3%B3pia_de_exercicios.ipynb\" target=\"_parent\"><img src=\"https://colab.research.google.com/assets/colab-badge.svg\" alt=\"Open In Colab\"/></a>"
      ]
    },
    {
      "cell_type": "code",
      "execution_count": 2,
      "metadata": {
        "id": "V3lCrAdvyGhd",
        "colab": {
          "base_uri": "https://localhost:8080/"
        },
        "outputId": "e1809874-8c25-45bd-9161-41b82a7c136f"
      },
      "outputs": [
        {
          "output_type": "stream",
          "name": "stdout",
          "text": [
            "Conexão realizada com sucesso!\n"
          ]
        }
      ],
      "source": [
        "import sqlite3  # Importando o módulo sqlite3\n",
        "\n",
        "conexao = sqlite3.connect('exerciciosbancodedados.db')\n",
        "cursor = conexao.cursor()  # Criando um cursor\n",
        "print('Conexão realizada com sucesso!')"
      ]
    },
    {
      "cell_type": "code",
      "source": [
        "# 1. Criar a tabela chamada \"alunos\" com os campos: id, nome, idade e curso.\n",
        "cursor.execute(\"\"\"\n",
        "CREATE TABLE IF NOT EXISTS alunos (\n",
        "    id INTEGER PRIMARY KEY AUTOINCREMENT,\n",
        "    nome TEXT NOT NULL,\n",
        "    idade INTEGER NOT NULL,\n",
        "    curso TEXT NOT NULL\n",
        ")\n",
        "\"\"\")\n",
        "print(\"Tabela criada com sucesso!\")"
      ],
      "metadata": {
        "id": "SMNtBl0YyawT",
        "colab": {
          "base_uri": "https://localhost:8080/"
        },
        "outputId": "81d9e935-5e82-493e-af6e-00f72c654870"
      },
      "execution_count": 3,
      "outputs": [
        {
          "output_type": "stream",
          "name": "stdout",
          "text": [
            "Tabela criada com sucesso!\n"
          ]
        }
      ]
    },
    {
      "cell_type": "code",
      "source": [
        "# 2. Inserir 5 registros de alunos na tabela \"alunos\"\n",
        "alunos = [\n",
        "    (\"Nathan Felix\", 23, \"Engenharia\"),\n",
        "    (\"David Pin\", 25, \"Marketing\"),\n",
        "    (\"Erica Oliveira\", 19, \"Análise de dados\"),\n",
        "    (\"Martha Souza\", 36, \"Enfermagem\"),\n",
        "    (\"Clarice Santos\", 22, \"Administração\"),\n",
        "    (\"Allan\", 31, \"Mecânica\")\n",
        "]\n",
        "# Inserir os dados na tabela 'alunos'\n",
        "cursor.executemany('INSERT INTO alunos(nome, idade, curso) VALUES (?, ?, ?)', alunos)\n",
        "print(\"Dados inseridos com sucesso!\")"
      ],
      "metadata": {
        "id": "WnSxUz-Qygw-",
        "colab": {
          "base_uri": "https://localhost:8080/"
        },
        "outputId": "63435881-943d-4002-be47-3fb0450906ee"
      },
      "execution_count": 4,
      "outputs": [
        {
          "output_type": "stream",
          "name": "stdout",
          "text": [
            "Dados inseridos com sucesso!\n"
          ]
        }
      ]
    },
    {
      "cell_type": "code",
      "source": [
        "# 3. Consultas Básicas\n",
        "# a) Mostrar todos os alunos\n",
        "print(\"Todos os alunos:\")\n",
        "visualizar = cursor.execute('SELECT * FROM alunos')\n",
        "for aluno in visualizar:\n",
        "    print(aluno)\n",
        "\n",
        "# b) Alunos com mais de 20 anos\n",
        "print(\"\\nAlunos com mais de 20 anos:\")\n",
        "maiorIdade = cursor.execute('SELECT nome, idade FROM alunos WHERE idade > 20')\n",
        "for aluno in maiorIdade:\n",
        "    print(aluno)\n",
        "\n",
        "# c) Selecionar os alunos do curso de \"Engenharia\" em ordem alfabética.\n",
        "print('\\nAlunos engenharia')\n",
        "curso = cursor.execute(\"SELECT * FROM alunos WHERE curso LIKE '%Engenharia%' ORDER BY nome;\")\n",
        "for aluno in curso:\n",
        "    print(aluno)\n",
        "\n",
        "# d) Contar o número total de alunos na tabela\n",
        "print('\\n Número total de alunos')\n",
        "total = cursor.execute('SELECT COUNT(*) FROM alunos;')\n",
        "total_alunos = total.fetchone()[0]  # Obtendo o resultado da contagem\n",
        "print(f\"Total de alunos: {total_alunos}\")"
      ],
      "metadata": {
        "id": "WAAazDK3yk6p",
        "colab": {
          "base_uri": "https://localhost:8080/"
        },
        "outputId": "01e7310f-6234-46b7-b024-73ee0b78bafd"
      },
      "execution_count": 5,
      "outputs": [
        {
          "output_type": "stream",
          "name": "stdout",
          "text": [
            "Todos os alunos:\n",
            "(1, 'Nathan Felix', 23, 'Engenharia')\n",
            "(2, 'David Pin', 25, 'Marketing')\n",
            "(3, 'Erica Oliveira', 19, 'Análise de dados')\n",
            "(4, 'Martha Souza', 36, 'Enfermagem')\n",
            "(5, 'Clarice Santos', 22, 'Administração')\n",
            "(6, 'Allan', 31, 'Mecânica')\n",
            "\n",
            "Alunos com mais de 20 anos:\n",
            "('Nathan Felix', 23)\n",
            "('David Pin', 25)\n",
            "('Martha Souza', 36)\n",
            "('Clarice Santos', 22)\n",
            "('Allan', 31)\n",
            "\n",
            "Alunos engenharia\n",
            "(1, 'Nathan Felix', 23, 'Engenharia')\n",
            "\n",
            " Número total de alunos\n",
            "Total de alunos: 6\n"
          ]
        }
      ]
    },
    {
      "cell_type": "code",
      "source": [
        "# 4. Atualização e Remoção\n",
        "\n",
        "# Atualizando a idade de um aluno específico\n",
        "idade_atual = 23  # Idade que será atualizada\n",
        "nova_idade = 25  # Nova idade\n",
        "\n",
        "cursor.execute('UPDATE alunos SET idade = ? WHERE idade = ?', (nova_idade, idade_atual))\n",
        "conexao.commit()\n",
        "\n",
        "print(\"Idade do aluno atualizada com sucesso!\")\n"
      ],
      "metadata": {
        "id": "UAIc2wfhyvI3",
        "colab": {
          "base_uri": "https://localhost:8080/"
        },
        "outputId": "ca8a7115-3402-4e8b-fa9f-cf9f9bf230e0"
      },
      "execution_count": 6,
      "outputs": [
        {
          "output_type": "stream",
          "name": "stdout",
          "text": [
            "Idade do aluno atualizada com sucesso!\n"
          ]
        }
      ]
    },
    {
      "cell_type": "code",
      "source": [
        "# b) Remova um aluno pelo seu ID.\n",
        "# Removendo um aluno pelo ID\n",
        "id_aluno = 3  # ID do aluno a ser removido\n",
        "\n",
        "cursor.execute('DELETE FROM alunos WHERE id = ?', (id_aluno,))\n",
        "conexao.commit()\n",
        "\n",
        "print(f\"Aluno com ID {id_aluno} removido com sucesso!\")\n"
      ],
      "metadata": {
        "id": "ukoApgq0ys8C",
        "colab": {
          "base_uri": "https://localhost:8080/"
        },
        "outputId": "24a20735-10e1-46c6-9593-d05eeb23a21c"
      },
      "execution_count": 7,
      "outputs": [
        {
          "output_type": "stream",
          "name": "stdout",
          "text": [
            "Aluno com ID 3 removido com sucesso!\n"
          ]
        }
      ]
    },
    {
      "cell_type": "code",
      "source": [
        "# 5. Criar uma Tabela e Inserir Dados\n",
        "# Criar a tabela \"clientes\" com os campos: id, nome, idade e saldo\n",
        "cursor.execute(\"\"\"\n",
        "CREATE TABLE IF NOT EXISTS clientes (\n",
        "    id INTEGER PRIMARY KEY AUTOINCREMENT,\n",
        "    nome TEXT NOT NULL,\n",
        "    idade INTEGER NOT NULL,\n",
        "    saldo FLOAT NOT NULL\n",
        ")\n",
        "\"\"\")\n",
        "conexao.commit()  # Confirma a criação da tabela\n",
        "\n",
        "# Inserir registros na tabela \"clientes\"\n",
        "clientes = [\n",
        "    (\"Lucas Silva\", 30, 5000.75),\n",
        "    (\"Maria Oliveira\", 45, 3500.50),\n",
        "    (\"José Santos\", 29, 1500.20),\n",
        "    (\"Ana Costa\", 55, 10000.00),\n",
        "    (\"Paulo Almeida\", 40, 2200.10)\n",
        "]\n",
        "\n",
        "cursor.executemany('INSERT INTO clientes (nome, idade, saldo) VALUES (?, ?, ?)', clientes)\n",
        "conexao.commit()  # Confirma a inserção dos registros\n",
        "\n",
        "print('Tabela \"clientes\" criada e dados inseridos com sucesso!')\n"
      ],
      "metadata": {
        "id": "3s8XsoojaLF5",
        "colab": {
          "base_uri": "https://localhost:8080/"
        },
        "outputId": "fdb1d5b0-e4b1-4ad3-e8ca-0a6b09422b50"
      },
      "execution_count": 8,
      "outputs": [
        {
          "output_type": "stream",
          "name": "stdout",
          "text": [
            "Tabela \"clientes\" criada e dados inseridos com sucesso!\n"
          ]
        }
      ]
    },
    {
      "cell_type": "code",
      "source": [
        "# 6. Consultas e Funções Agregadas\n",
        "# a) Selecione o nome e a idade dos clientes com idade superior a 30 anos\n",
        "cursor.execute('SELECT nome, idade FROM clientes WHERE idade > 30')\n",
        "resultado = cursor.fetchall()\n",
        "for cliente in resultado:\n",
        "    print(cliente)"
      ],
      "metadata": {
        "id": "Wqc-gp6eaqEO",
        "colab": {
          "base_uri": "https://localhost:8080/"
        },
        "outputId": "2c23bce8-9ff7-4c59-d37b-620aee848598"
      },
      "execution_count": 9,
      "outputs": [
        {
          "output_type": "stream",
          "name": "stdout",
          "text": [
            "('Maria Oliveira', 45)\n",
            "('Ana Costa', 55)\n",
            "('Paulo Almeida', 40)\n"
          ]
        }
      ]
    },
    {
      "cell_type": "code",
      "source": [
        "# b) Calcule o saldo médio dos clientes.\n",
        "print(\"\\nb) Saldo médio dos clientes:\")\n",
        "cursor.execute('SELECT AVG(saldo) FROM clientes')\n",
        "saldo_medio = cursor.fetchone()[0]  # Pegando o resultado da média\n",
        "print(f\"Saldo médio: {saldo_medio:.2f}\")"
      ],
      "metadata": {
        "id": "Iey4_IANc46C",
        "colab": {
          "base_uri": "https://localhost:8080/"
        },
        "outputId": "aab135b2-3ae1-4b61-81d9-97725120ebf2"
      },
      "execution_count": 10,
      "outputs": [
        {
          "output_type": "stream",
          "name": "stdout",
          "text": [
            "\n",
            "b) Saldo médio dos clientes:\n",
            "Saldo médio: 4440.31\n"
          ]
        }
      ]
    },
    {
      "cell_type": "code",
      "source": [
        "# c) Encontre o cliente com o saldo máximo\n",
        "print(\"\\nc) Cliente com o saldo máximo:\")\n",
        "cursor.execute('SELECT nome, saldo FROM clientes WHERE saldo = (SELECT MAX(saldo) FROM clientes)')\n",
        "cliente_max_saldo = cursor.fetchone()\n",
        "print(cliente_max_saldo)"
      ],
      "metadata": {
        "id": "iGOJWfI-dCs6",
        "colab": {
          "base_uri": "https://localhost:8080/"
        },
        "outputId": "15b8adf7-3448-475a-a10b-f033f0c17a57"
      },
      "execution_count": 11,
      "outputs": [
        {
          "output_type": "stream",
          "name": "stdout",
          "text": [
            "\n",
            "c) Cliente com o saldo máximo:\n",
            "('Ana Costa', 10000.0)\n"
          ]
        }
      ]
    },
    {
      "cell_type": "code",
      "source": [
        "# d) Contar quantos clientes têm saldo acima de 1000\n",
        "print(\"\\nd) Número de clientes com saldo acima de 1000:\")\n",
        "cursor.execute('SELECT COUNT(*) FROM clientes WHERE saldo > 1000')\n",
        "num_clientes = cursor.fetchone()[0]  # Pegando o número de clientes\n",
        "print(f\"Total de clientes com saldo acima de 1000: {num_clientes}\")"
      ],
      "metadata": {
        "id": "Vj8T16SOdS45",
        "colab": {
          "base_uri": "https://localhost:8080/"
        },
        "outputId": "f28bda6d-329d-4474-ae8f-dc2dbb7dc757"
      },
      "execution_count": 12,
      "outputs": [
        {
          "output_type": "stream",
          "name": "stdout",
          "text": [
            "\n",
            "d) Número de clientes com saldo acima de 1000:\n",
            "Total de clientes com saldo acima de 1000: 5\n"
          ]
        }
      ]
    },
    {
      "cell_type": "code",
      "source": [
        "# a) Atualizar o saldo de um cliente específico\n",
        "id_cliente = 3  # ID do cliente para o qual vamos atualizar o saldo\n",
        "novo_saldo = 3000.00  # Novo valor do saldo\n",
        "\n",
        "cursor.execute('UPDATE clientes SET saldo = ? WHERE id = ?', (novo_saldo, id_cliente))\n",
        "\n",
        "# b) Remover um cliente pelo seu ID\n",
        "id_cliente_remover = 2  # ID do cliente a ser removido\n",
        "\n",
        "cursor.execute('DELETE FROM clientes WHERE id = ?', (id_cliente_remover,))\n",
        "print(\"Cliente removido com sucesso!\")"
      ],
      "metadata": {
        "id": "PfJas0N4dd47",
        "colab": {
          "base_uri": "https://localhost:8080/"
        },
        "outputId": "4806903e-58ac-4c2a-85d7-9420c2aef42d"
      },
      "execution_count": 13,
      "outputs": [
        {
          "output_type": "stream",
          "name": "stdout",
          "text": [
            "Cliente removido com sucesso!\n"
          ]
        }
      ]
    },
    {
      "cell_type": "code",
      "source": [
        "# 8. Junção de Tabelas\n",
        "# Criar a tabela \"compras\" com os campos: id, cliente_id (chave estrangeira), produto e valor\n",
        "cursor.execute(\"\"\"\n",
        "CREATE TABLE IF NOT EXISTS compras (\n",
        "    id INTEGER PRIMARY KEY AUTOINCREMENT,\n",
        "    produto TEXT NOT NULL,\n",
        "    valor REAL NOT NULL,\n",
        "    cliente_id INTEGER,\n",
        "    FOREIGN KEY (cliente_id) REFERENCES clientes(id)\n",
        ")\n",
        "\"\"\")\n",
        "conexao.commit()  # Confirma a criação da tabela\n",
        "\n",
        "# Inserir registros na tabela \"compras\"\n",
        "compras = [\n",
        "    (\"Produto A\", 150.75, 1),  # Produto A comprado por Lucas Silva (id=1)\n",
        "    (\"Produto B\", 200.30, 2),  # Produto B comprado por Maria Oliveira (id=2)\n",
        "    (\"Produto C\", 99.90, 3),   # Produto C comprado por José Santos (id=3)\n",
        "    (\"Produto D\", 350.40, 4),  # Produto D comprado por Ana Costa (id=4)\n",
        "    (\"Produto E\", 120.10, 5)   # Produto E comprado por Paulo Almeida (id=5)\n",
        "]\n",
        "cursor.executemany('INSERT INTO compras (produto, valor, cliente_id) VALUES (?, ?, ?)', compras)\n",
        "conexao.commit()  # Confirma a inserção dos registros\n",
        "print('Tabela \"compras\" criada e dados inseridos com sucesso!')\n",
        "\n",
        "# Consulta Junção de Tabelas\n",
        "print(\"\\nConsulta: Nome do Cliente, Produto e Valor da Compra\")\n",
        "cursor.execute(\"\"\"\n",
        "SELECT clientes.nome, compras.produto, compras.valor\n",
        "FROM compras\n",
        "JOIN clientes ON compras.cliente_id = clientes.id;\n",
        "\"\"\")\n",
        "result = cursor.fetchall()\n",
        "\n",
        "# Exibir o resultado da consulta\n",
        "for row in result:\n",
        "    print(row)\n",
        "\n",
        "# Fechar a conexão\n",
        "conexao.close()"
      ],
      "metadata": {
        "id": "K7reYRqPdnja",
        "colab": {
          "base_uri": "https://localhost:8080/"
        },
        "outputId": "7d64330e-034c-4654-edbc-f189d9bd71a3"
      },
      "execution_count": 14,
      "outputs": [
        {
          "output_type": "stream",
          "name": "stdout",
          "text": [
            "Tabela \"compras\" criada e dados inseridos com sucesso!\n",
            "\n",
            "Consulta: Nome do Cliente, Produto e Valor da Compra\n",
            "('Lucas Silva', 'Produto A', 150.75)\n",
            "('José Santos', 'Produto C', 99.9)\n",
            "('Ana Costa', 'Produto D', 350.4)\n",
            "('Paulo Almeida', 'Produto E', 120.1)\n"
          ]
        }
      ]
    }
  ]
}